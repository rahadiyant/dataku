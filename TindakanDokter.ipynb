{
  "nbformat": 4,
  "nbformat_minor": 0,
  "metadata": {
    "colab": {
      "provenance": [],
      "authorship_tag": "ABX9TyNFxRsOyr70PXLF2J4y+249",
      "include_colab_link": true
    },
    "kernelspec": {
      "name": "python3",
      "display_name": "Python 3"
    },
    "language_info": {
      "name": "python"
    }
  },
  "cells": [
    {
      "cell_type": "markdown",
      "metadata": {
        "id": "view-in-github",
        "colab_type": "text"
      },
      "source": [
        "<a href=\"https://colab.research.google.com/github/rahadiyant/dataku/blob/main/TindakanDokter.ipynb\" target=\"_parent\"><img src=\"https://colab.research.google.com/assets/colab-badge.svg\" alt=\"Open In Colab\"/></a>"
      ]
    },
    {
      "cell_type": "code",
      "execution_count": 27,
      "metadata": {
        "colab": {
          "base_uri": "https://localhost:8080/"
        },
        "id": "biOms67rzFGH",
        "outputId": "a4f95aa7-aeaf-4030-c0d0-009aa26efac7"
      },
      "outputs": [
        {
          "output_type": "stream",
          "name": "stdout",
          "text": [
            "Requirement already satisfied: streamlit==1.27.0 in /usr/local/lib/python3.10/dist-packages (1.27.0)\n",
            "Requirement already satisfied: altair<6,>=4.0 in /usr/local/lib/python3.10/dist-packages (from streamlit==1.27.0) (4.2.2)\n",
            "Requirement already satisfied: blinker<2,>=1.0.0 in /usr/lib/python3/dist-packages (from streamlit==1.27.0) (1.4)\n",
            "Requirement already satisfied: cachetools<6,>=4.0 in /usr/local/lib/python3.10/dist-packages (from streamlit==1.27.0) (5.3.3)\n",
            "Requirement already satisfied: click<9,>=7.0 in /usr/local/lib/python3.10/dist-packages (from streamlit==1.27.0) (8.1.7)\n",
            "Requirement already satisfied: importlib-metadata<7,>=1.4 in /usr/local/lib/python3.10/dist-packages (from streamlit==1.27.0) (6.11.0)\n",
            "Requirement already satisfied: numpy<2,>=1.19.3 in /usr/local/lib/python3.10/dist-packages (from streamlit==1.27.0) (1.25.2)\n",
            "Requirement already satisfied: packaging<24,>=16.8 in /usr/local/lib/python3.10/dist-packages (from streamlit==1.27.0) (23.2)\n",
            "Requirement already satisfied: pandas<3,>=1.3.0 in /usr/local/lib/python3.10/dist-packages (from streamlit==1.27.0) (2.0.3)\n",
            "Requirement already satisfied: pillow<10,>=7.1.0 in /usr/local/lib/python3.10/dist-packages (from streamlit==1.27.0) (9.4.0)\n",
            "Requirement already satisfied: protobuf<5,>=3.20 in /usr/local/lib/python3.10/dist-packages (from streamlit==1.27.0) (3.20.3)\n",
            "Requirement already satisfied: pyarrow>=6.0 in /usr/local/lib/python3.10/dist-packages (from streamlit==1.27.0) (14.0.2)\n",
            "Requirement already satisfied: python-dateutil<3,>=2.7.3 in /usr/local/lib/python3.10/dist-packages (from streamlit==1.27.0) (2.8.2)\n",
            "Requirement already satisfied: requests<3,>=2.18 in /usr/local/lib/python3.10/dist-packages (from streamlit==1.27.0) (2.31.0)\n",
            "Requirement already satisfied: rich<14,>=10.14.0 in /usr/local/lib/python3.10/dist-packages (from streamlit==1.27.0) (13.7.1)\n",
            "Requirement already satisfied: tenacity<9,>=8.1.0 in /usr/local/lib/python3.10/dist-packages (from streamlit==1.27.0) (8.5.0)\n",
            "Requirement already satisfied: toml<2,>=0.10.1 in /usr/local/lib/python3.10/dist-packages (from streamlit==1.27.0) (0.10.2)\n",
            "Requirement already satisfied: typing-extensions<5,>=4.1.0 in /usr/local/lib/python3.10/dist-packages (from streamlit==1.27.0) (4.12.2)\n",
            "Requirement already satisfied: tzlocal<6,>=1.1 in /usr/local/lib/python3.10/dist-packages (from streamlit==1.27.0) (5.2)\n",
            "Requirement already satisfied: validators<1,>=0.2 in /usr/local/lib/python3.10/dist-packages (from streamlit==1.27.0) (0.32.0)\n",
            "Requirement already satisfied: gitpython!=3.1.19,<4,>=3.0.7 in /usr/local/lib/python3.10/dist-packages (from streamlit==1.27.0) (3.1.43)\n",
            "Requirement already satisfied: pydeck<1,>=0.8.0b4 in /usr/local/lib/python3.10/dist-packages (from streamlit==1.27.0) (0.9.1)\n",
            "Requirement already satisfied: tornado<7,>=6.0.3 in /usr/local/lib/python3.10/dist-packages (from streamlit==1.27.0) (6.3.3)\n",
            "Requirement already satisfied: watchdog>=2.1.5 in /usr/local/lib/python3.10/dist-packages (from streamlit==1.27.0) (4.0.1)\n",
            "Requirement already satisfied: entrypoints in /usr/local/lib/python3.10/dist-packages (from altair<6,>=4.0->streamlit==1.27.0) (0.4)\n",
            "Requirement already satisfied: jinja2 in /usr/local/lib/python3.10/dist-packages (from altair<6,>=4.0->streamlit==1.27.0) (3.1.4)\n",
            "Requirement already satisfied: jsonschema>=3.0 in /usr/local/lib/python3.10/dist-packages (from altair<6,>=4.0->streamlit==1.27.0) (4.19.2)\n",
            "Requirement already satisfied: toolz in /usr/local/lib/python3.10/dist-packages (from altair<6,>=4.0->streamlit==1.27.0) (0.12.1)\n",
            "Requirement already satisfied: gitdb<5,>=4.0.1 in /usr/local/lib/python3.10/dist-packages (from gitpython!=3.1.19,<4,>=3.0.7->streamlit==1.27.0) (4.0.11)\n",
            "Requirement already satisfied: zipp>=0.5 in /usr/local/lib/python3.10/dist-packages (from importlib-metadata<7,>=1.4->streamlit==1.27.0) (3.19.2)\n",
            "Requirement already satisfied: pytz>=2020.1 in /usr/local/lib/python3.10/dist-packages (from pandas<3,>=1.3.0->streamlit==1.27.0) (2023.4)\n",
            "Requirement already satisfied: tzdata>=2022.1 in /usr/local/lib/python3.10/dist-packages (from pandas<3,>=1.3.0->streamlit==1.27.0) (2024.1)\n",
            "Requirement already satisfied: six>=1.5 in /usr/local/lib/python3.10/dist-packages (from python-dateutil<3,>=2.7.3->streamlit==1.27.0) (1.16.0)\n",
            "Requirement already satisfied: charset-normalizer<4,>=2 in /usr/local/lib/python3.10/dist-packages (from requests<3,>=2.18->streamlit==1.27.0) (3.3.2)\n",
            "Requirement already satisfied: idna<4,>=2.5 in /usr/local/lib/python3.10/dist-packages (from requests<3,>=2.18->streamlit==1.27.0) (3.7)\n",
            "Requirement already satisfied: urllib3<3,>=1.21.1 in /usr/local/lib/python3.10/dist-packages (from requests<3,>=2.18->streamlit==1.27.0) (2.0.7)\n",
            "Requirement already satisfied: certifi>=2017.4.17 in /usr/local/lib/python3.10/dist-packages (from requests<3,>=2.18->streamlit==1.27.0) (2024.7.4)\n",
            "Requirement already satisfied: markdown-it-py>=2.2.0 in /usr/local/lib/python3.10/dist-packages (from rich<14,>=10.14.0->streamlit==1.27.0) (3.0.0)\n",
            "Requirement already satisfied: pygments<3.0.0,>=2.13.0 in /usr/local/lib/python3.10/dist-packages (from rich<14,>=10.14.0->streamlit==1.27.0) (2.16.1)\n",
            "Requirement already satisfied: smmap<6,>=3.0.1 in /usr/local/lib/python3.10/dist-packages (from gitdb<5,>=4.0.1->gitpython!=3.1.19,<4,>=3.0.7->streamlit==1.27.0) (5.0.1)\n",
            "Requirement already satisfied: MarkupSafe>=2.0 in /usr/local/lib/python3.10/dist-packages (from jinja2->altair<6,>=4.0->streamlit==1.27.0) (2.1.5)\n",
            "Requirement already satisfied: attrs>=22.2.0 in /usr/local/lib/python3.10/dist-packages (from jsonschema>=3.0->altair<6,>=4.0->streamlit==1.27.0) (23.2.0)\n",
            "Requirement already satisfied: jsonschema-specifications>=2023.03.6 in /usr/local/lib/python3.10/dist-packages (from jsonschema>=3.0->altair<6,>=4.0->streamlit==1.27.0) (2023.12.1)\n",
            "Requirement already satisfied: referencing>=0.28.4 in /usr/local/lib/python3.10/dist-packages (from jsonschema>=3.0->altair<6,>=4.0->streamlit==1.27.0) (0.35.1)\n",
            "Requirement already satisfied: rpds-py>=0.7.1 in /usr/local/lib/python3.10/dist-packages (from jsonschema>=3.0->altair<6,>=4.0->streamlit==1.27.0) (0.19.0)\n",
            "Requirement already satisfied: mdurl~=0.1 in /usr/local/lib/python3.10/dist-packages (from markdown-it-py>=2.2.0->rich<14,>=10.14.0->streamlit==1.27.0) (0.1.2)\n"
          ]
        }
      ],
      "source": [
        "!pip install streamlit==1.27.0"
      ]
    },
    {
      "cell_type": "code",
      "source": [
        "!pip install pandas\n",
        "!pip install matplotlib\n",
        "!pip install scikit-learn\n",
        "!pip install scipy\n",
        "!pip install plotly\n",
        "!pip install openpyxl\n",
        "!pip install pyngrok"
      ],
      "metadata": {
        "colab": {
          "base_uri": "https://localhost:8080/"
        },
        "id": "uGIEmXIs4iZB",
        "outputId": "687d1c68-0b54-4048-e7c4-fa08c8e391ea"
      },
      "execution_count": 28,
      "outputs": [
        {
          "output_type": "stream",
          "name": "stdout",
          "text": [
            "Requirement already satisfied: pandas in /usr/local/lib/python3.10/dist-packages (2.0.3)\n",
            "Requirement already satisfied: python-dateutil>=2.8.2 in /usr/local/lib/python3.10/dist-packages (from pandas) (2.8.2)\n",
            "Requirement already satisfied: pytz>=2020.1 in /usr/local/lib/python3.10/dist-packages (from pandas) (2023.4)\n",
            "Requirement already satisfied: tzdata>=2022.1 in /usr/local/lib/python3.10/dist-packages (from pandas) (2024.1)\n",
            "Requirement already satisfied: numpy>=1.21.0 in /usr/local/lib/python3.10/dist-packages (from pandas) (1.25.2)\n",
            "Requirement already satisfied: six>=1.5 in /usr/local/lib/python3.10/dist-packages (from python-dateutil>=2.8.2->pandas) (1.16.0)\n",
            "Requirement already satisfied: matplotlib in /usr/local/lib/python3.10/dist-packages (3.7.1)\n",
            "Requirement already satisfied: contourpy>=1.0.1 in /usr/local/lib/python3.10/dist-packages (from matplotlib) (1.2.1)\n",
            "Requirement already satisfied: cycler>=0.10 in /usr/local/lib/python3.10/dist-packages (from matplotlib) (0.12.1)\n",
            "Requirement already satisfied: fonttools>=4.22.0 in /usr/local/lib/python3.10/dist-packages (from matplotlib) (4.53.1)\n",
            "Requirement already satisfied: kiwisolver>=1.0.1 in /usr/local/lib/python3.10/dist-packages (from matplotlib) (1.4.5)\n",
            "Requirement already satisfied: numpy>=1.20 in /usr/local/lib/python3.10/dist-packages (from matplotlib) (1.25.2)\n",
            "Requirement already satisfied: packaging>=20.0 in /usr/local/lib/python3.10/dist-packages (from matplotlib) (23.2)\n",
            "Requirement already satisfied: pillow>=6.2.0 in /usr/local/lib/python3.10/dist-packages (from matplotlib) (9.4.0)\n",
            "Requirement already satisfied: pyparsing>=2.3.1 in /usr/local/lib/python3.10/dist-packages (from matplotlib) (3.1.2)\n",
            "Requirement already satisfied: python-dateutil>=2.7 in /usr/local/lib/python3.10/dist-packages (from matplotlib) (2.8.2)\n",
            "Requirement already satisfied: six>=1.5 in /usr/local/lib/python3.10/dist-packages (from python-dateutil>=2.7->matplotlib) (1.16.0)\n",
            "Requirement already satisfied: scikit-learn in /usr/local/lib/python3.10/dist-packages (1.2.2)\n",
            "Requirement already satisfied: numpy>=1.17.3 in /usr/local/lib/python3.10/dist-packages (from scikit-learn) (1.25.2)\n",
            "Requirement already satisfied: scipy>=1.3.2 in /usr/local/lib/python3.10/dist-packages (from scikit-learn) (1.11.4)\n",
            "Requirement already satisfied: joblib>=1.1.1 in /usr/local/lib/python3.10/dist-packages (from scikit-learn) (1.4.2)\n",
            "Requirement already satisfied: threadpoolctl>=2.0.0 in /usr/local/lib/python3.10/dist-packages (from scikit-learn) (3.5.0)\n",
            "Requirement already satisfied: scipy in /usr/local/lib/python3.10/dist-packages (1.11.4)\n",
            "Requirement already satisfied: numpy<1.28.0,>=1.21.6 in /usr/local/lib/python3.10/dist-packages (from scipy) (1.25.2)\n",
            "Requirement already satisfied: plotly in /usr/local/lib/python3.10/dist-packages (5.15.0)\n",
            "Requirement already satisfied: tenacity>=6.2.0 in /usr/local/lib/python3.10/dist-packages (from plotly) (8.5.0)\n",
            "Requirement already satisfied: packaging in /usr/local/lib/python3.10/dist-packages (from plotly) (23.2)\n",
            "Requirement already satisfied: openpyxl in /usr/local/lib/python3.10/dist-packages (3.1.5)\n",
            "Requirement already satisfied: et-xmlfile in /usr/local/lib/python3.10/dist-packages (from openpyxl) (1.1.0)\n",
            "Requirement already satisfied: pyngrok in /usr/local/lib/python3.10/dist-packages (7.1.6)\n",
            "Requirement already satisfied: PyYAML>=5.1 in /usr/local/lib/python3.10/dist-packages (from pyngrok) (6.0.1)\n"
          ]
        }
      ]
    },
    {
      "cell_type": "code",
      "source": [
        "%%writefile doctor_analysis.py\n",
        "import streamlit as st\n",
        "import pandas as pd\n",
        "import plotly.express as px\n",
        "import numpy as np\n",
        "\n",
        "# Konfigurasi halaman\n",
        "st.set_page_config(page_title=\"Dashboard Laporan Tindakan Dokter Mata\", layout=\"wide\")\n",
        "\n",
        "# Fungsi untuk memuat data\n",
        "def load_data():\n",
        "    url = \"https://github.com/rahadiyant/dataku/raw/main/LapTindakanDokter.csv\"\n",
        "    df = pd.read_csv(url, encoding='utf-8')\n",
        "\n",
        "    # Tampilkan nama kolom yang tersedia sebelum diubah\n",
        "    st.sidebar.write(\"Kolom yang tersedia (sebelum diubah):\", df.columns.tolist())\n",
        "\n",
        "    # Ubah nama kolom jika diperlukan\n",
        "    df = df.rename(columns={\n",
        "        'NAMA DOKTER': 'nama_dokter',\n",
        "        'JENIS TINDAKAN': 'jenis_tindakan',\n",
        "        'TANGGAL': 'tanggal',\n",
        "        'HARGA': 'harga'\n",
        "    })\n",
        "\n",
        "    # Konversi kolom tanggal ke tipe datetime\n",
        "    df['tanggal'] = pd.to_datetime(df['tanggal'], errors='coerce')\n",
        "\n",
        "    # Bersihkan dan konversi kolom harga\n",
        "    df['harga'] = df['harga'].str.replace('Total: ', '').str.replace(',', '').astype(float)\n",
        "\n",
        "    return df\n",
        "\n",
        "# Memuat data\n",
        "df = load_data()\n",
        "\n",
        "# Judul\n",
        "st.title(\"Dashboard Laporan Tindakan Dokter Mata\")\n",
        "\n",
        "# Sidebar\n",
        "st.sidebar.header(\"Filter\")\n",
        "\n",
        "# Tampilkan nama kolom yang tersedia setelah diubah\n",
        "st.sidebar.write(\"Kolom yang tersedia (setelah diubah):\", df.columns.tolist())\n",
        "\n",
        "# Filter data\n",
        "try:\n",
        "    dokter = st.sidebar.multiselect(\"Pilih Dokter\", options=df['nama_dokter'].unique())\n",
        "    tindakan = st.sidebar.multiselect(\"Pilih Jenis Tindakan\", options=df['jenis_tindakan'].unique())\n",
        "except KeyError as e:\n",
        "    st.error(f\"Kolom tidak ditemukan: {e}. Mohon periksa nama kolom yang benar.\")\n",
        "    st.stop()\n",
        "\n",
        "if dokter:\n",
        "    df = df[df['nama_dokter'].isin(dokter)]\n",
        "if tindakan:\n",
        "    df = df[df['jenis_tindakan'].isin(tindakan)]\n",
        "\n",
        "# Tampilkan informasi dasar\n",
        "st.header(\"Total Data\")\n",
        "col1, col2, col3 = st.columns(3)\n",
        "col1.metric(\"Total Catatan\", len(df))\n",
        "col2.metric(\"Total Dokter\", df['nama_dokter'].nunique())\n",
        "col3.metric(\"Total Jenis Tindakan\", df['jenis_tindakan'].nunique())\n",
        "\n",
        "# Grafik jumlah tindakan per dokter\n",
        "st.subheader(\"Jumlah Tindakan per Dokter\")\n",
        "dokter_count = df['nama_dokter'].value_counts().reset_index()\n",
        "dokter_count.columns = ['nama_dokter', 'jumlah_tindakan']\n",
        "fig_dokter = px.bar(dokter_count,\n",
        "                    x='nama_dokter', y='jumlah_tindakan',\n",
        "                    labels={'nama_dokter': 'Nama Dokter', 'jumlah_tindakan': 'Jumlah Tindakan'})\n",
        "st.plotly_chart(fig_dokter, use_container_width=True)\n",
        "\n",
        "# Grafik distribusi jenis tindakan\n",
        "st.subheader(\"Distribusi Jenis Tindakan\")\n",
        "tindakan_count = df['jenis_tindakan'].value_counts().reset_index()\n",
        "tindakan_count.columns = ['jenis_tindakan', 'jumlah']\n",
        "fig_tindakan = px.pie(tindakan_count,\n",
        "                      values='jumlah', names='jenis_tindakan')\n",
        "st.plotly_chart(fig_tindakan, use_container_width=True)\n",
        "\n",
        "# Grafik tren harga tindakan\n",
        "st.subheader(\"Tren Harga Tindakan\")\n",
        "harga_trend = df.groupby('tanggal')['harga'].mean().reset_index()\n",
        "fig_harga = px.line(harga_trend,\n",
        "                    x='tanggal', y='harga',\n",
        "                    labels={'tanggal': 'Tanggal', 'harga': 'Rata-rata Harga'})\n",
        "st.plotly_chart(fig_harga, use_container_width=True)\n",
        "\n",
        "# Tampilkan data mentah\n",
        "if st.checkbox(\"Tampilkan Data Mentah\"):\n",
        "    st.subheader(\"Data Mentah\")\n",
        "    st.write(df)\n",
        "\n",
        "# Tampilkan sampel data dan informasi kolom\n",
        "st.subheader(\"Sampel Data\")\n",
        "st.write(df.head())\n",
        "st.subheader(\"Informasi Kolom\")\n",
        "st.write(df.info())"
      ],
      "metadata": {
        "colab": {
          "base_uri": "https://localhost:8080/"
        },
        "id": "JYyvu_gE6XyL",
        "outputId": "56336e85-b35c-4e0f-e7bf-3b9033b5dae6"
      },
      "execution_count": 29,
      "outputs": [
        {
          "output_type": "stream",
          "name": "stdout",
          "text": [
            "Overwriting doctor_analysis.py\n"
          ]
        }
      ]
    },
    {
      "cell_type": "code",
      "source": [
        "from pyngrok import ngrok\n",
        "ngrok.set_auth_token(\"cr_2iJyVmdEVq1QrJmRETFGsDMgL9W\")"
      ],
      "metadata": {
        "id": "cQz1pErhL34Y"
      },
      "execution_count": 31,
      "outputs": []
    },
    {
      "cell_type": "code",
      "source": [
        "!streamlit run doctor_analysis.py & npx localtunnel --port 8501"
      ],
      "metadata": {
        "colab": {
          "base_uri": "https://localhost:8080/"
        },
        "id": "VKfQqUVUJ_cL",
        "outputId": "d4092ed3-3b48-40eb-ca79-b2be752c4a56"
      },
      "execution_count": null,
      "outputs": [
        {
          "output_type": "stream",
          "name": "stdout",
          "text": [
            "[..................] \\ fetchMetadata: sill resolveWithNewModule localtunnel@2.0\u001b[0m\u001b[K\n",
            "Collecting usage statistics. To deactivate, set browser.gatherUsageStats to False.\n",
            "\u001b[0m\n",
            "\u001b[0m\n",
            "\u001b[34m\u001b[1m  You can now view your Streamlit app in your browser.\u001b[0m\n",
            "\u001b[0m\n",
            "\u001b[34m  Network URL: \u001b[0m\u001b[1mhttp://172.28.0.12:8501\u001b[0m\n",
            "\u001b[34m  External URL: \u001b[0m\u001b[1mhttp://34.86.156.170:8501\u001b[0m\n",
            "\u001b[0m\n",
            "\u001b[K\u001b[?25hnpx: installed 22 in 2.502s\n",
            "your url is: https://khaki-beds-behave.loca.lt\n",
            "<class 'pandas.core.frame.DataFrame'>\n",
            "RangeIndex: 15107 entries, 0 to 15106\n",
            "Data columns (total 8 columns):\n",
            " #   Column          Non-Null Count  Dtype         \n",
            "---  ------          --------------  -----         \n",
            " 0   nomor_kwitansi  15106 non-null  object        \n",
            " 1   tanggal         15106 non-null  datetime64[ns]\n",
            " 2   pasien          15106 non-null  object        \n",
            " 3   nama_dokter     15106 non-null  object        \n",
            " 4   poliklinik      15106 non-null  object        \n",
            " 5   tipe            15106 non-null  object        \n",
            " 6   jenis_tindakan  15106 non-null  object        \n",
            " 7   harga           15107 non-null  float64       \n",
            "dtypes: datetime64[ns](1), float64(1), object(6)\n",
            "memory usage: 944.3+ KB\n"
          ]
        }
      ]
    }
  ]
}